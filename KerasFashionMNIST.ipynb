{
  "nbformat": 4,
  "nbformat_minor": 0,
  "metadata": {
    "colab": {
      "name": "KerasFashionMNIST.ipynb",
      "provenance": [],
      "collapsed_sections": [],
      "authorship_tag": "ABX9TyMfeJrhfUqd6tX7u2bNo2Xy",
      "include_colab_link": true
    },
    "kernelspec": {
      "name": "python3",
      "display_name": "Python 3"
    }
  },
  "cells": [
    {
      "cell_type": "markdown",
      "metadata": {
        "id": "view-in-github",
        "colab_type": "text"
      },
      "source": [
        "<a href=\"https://colab.research.google.com/github/Shubha23/Convergence-prediction-based-on-user-behavior/blob/master/KerasFashionMNIST.ipynb\" target=\"_parent\"><img src=\"https://colab.research.google.com/assets/colab-badge.svg\" alt=\"Open In Colab\"/></a>"
      ]
    },
    {
      "cell_type": "code",
      "metadata": {
        "colab_type": "code",
        "id": "Md8ze8e9geMi",
        "colab": {}
      },
      "source": [
        "# from __future__ import print_function\n",
        "\n",
        "# %tensorflow_version 1.x\n",
        "# import tensorflow as tf\n",
        "\n",
        "# # Create a graph.\n",
        "# g = tf.Graph()\n",
        "\n",
        "# # Establish the graph as the \"default\" graph.\n",
        "# with g.as_default():\n",
        "#   # Assemble a graph consisting of the following three operations:\n",
        "#   #   * Two tf.constant operations to create the operands.\n",
        "#   #   * One tf.add operation to add the two operands.\n",
        "#   x = tf.constant(8, name=\"x_const\")\n",
        "#   y = tf.constant(5, name=\"y_const\")\n",
        "#   my_sum = tf.add(x, y, name=\"x_y_sum\")\n",
        "#   prod = tf.multiply(x,y, name = 'prod1')\n",
        "\n",
        "\n",
        "\n",
        "#   # Now create a session.\n",
        "#   # The session will run the default graph.\n",
        "#   with tf.Session() as sess:\n",
        "#     print(prod.eval())"
      ],
      "execution_count": 0,
      "outputs": []
    },
    {
      "cell_type": "code",
      "metadata": {
        "id": "X6bli_LsfNYl",
        "colab_type": "code",
        "colab": {}
      },
      "source": [
        "%tensorflow_version 2.x\n",
        "import tensorflow as tf\n",
        "from tensorflow import keras\n",
        "import numpy as np\n",
        "import pandas as pd\n",
        "import matplotlib.pyplot as plt\n"
      ],
      "execution_count": 0,
      "outputs": []
    },
    {
      "cell_type": "code",
      "metadata": {
        "id": "0dO_11uXTN1_",
        "colab_type": "code",
        "colab": {
          "base_uri": "https://localhost:8080/",
          "height": 35
        },
        "outputId": "1de0cbbf-ecfd-4391-bada-47000999d6c6"
      },
      "source": [
        "data = keras.datasets.fashion_mnist\n",
        "(x_train, y_train), (x_test, y_test) = data.load_data()\n",
        "class_names = ['T-shirt/top', 'Trouser', 'Pullover', 'Dress', 'Coat',\n",
        "               'Sandal', 'Shirt', 'Sneaker', 'Bag', 'Ankle boot']\n",
        "x_train.shape    # 60K images each of 28 by 28 pixels"
      ],
      "execution_count": 55,
      "outputs": [
        {
          "output_type": "execute_result",
          "data": {
            "text/plain": [
              "(60000, 28, 28)"
            ]
          },
          "metadata": {
            "tags": []
          },
          "execution_count": 55
        }
      ]
    },
    {
      "cell_type": "code",
      "metadata": {
        "id": "ammNM91Jh5xU",
        "colab_type": "code",
        "colab": {
          "base_uri": "https://localhost:8080/",
          "height": 35
        },
        "outputId": "782c6a39-87b0-4d1b-b045-61c4100a939f"
      },
      "source": [
        "x_test.shape"
      ],
      "execution_count": 56,
      "outputs": [
        {
          "output_type": "execute_result",
          "data": {
            "text/plain": [
              "(10000, 28, 28)"
            ]
          },
          "metadata": {
            "tags": []
          },
          "execution_count": 56
        }
      ]
    },
    {
      "cell_type": "code",
      "metadata": {
        "id": "4dqSjC3UiIpi",
        "colab_type": "code",
        "colab": {
          "base_uri": "https://localhost:8080/",
          "height": 265
        },
        "outputId": "699871fe-6a10-42df-d559-9fe138157728"
      },
      "source": [
        "# Exploration\n",
        "plt.figure()\n",
        "plt.imshow(x_train[1])\n",
        "plt.colorbar()\n",
        "plt.grid(False)\n",
        "plt.show()"
      ],
      "execution_count": 57,
      "outputs": [
        {
          "output_type": "display_data",
          "data": {
            "image/png": "[encoded data removed]",
            "text/plain": [
              "<Figure size 432x288 with 2 Axes>"
            ]
          },
          "metadata": {
            "tags": []
          }
        }
      ]
    },
    {
      "cell_type": "code",
      "metadata": {
        "id": "BxvbGh04oYSe",
        "colab_type": "code",
        "colab": {
          "base_uri": "https://localhost:8080/",
          "height": 128
        },
        "outputId": "1274ab68-206e-4121-fb7d-21b838b3768d"
      },
      "source": [
        "# Data normalization\n",
        "x_train = x_train/255.0   # To convert pixels in range 0 to 1 for input to neural network.\n",
        "y_train = y_train/255.0\n",
        "\n",
        "plt.figure(figsize=(10,10))\n",
        "for i in range(5):\n",
        "  plt.subplot(5,5, i+1)\n",
        "  plt.xticks([])\n",
        "  plt.yticks([])\n",
        "  plt.grid(False)\n",
        "  plt.imshow(x_train[i])\n",
        "plt.show()"
      ],
      "execution_count": 58,
      "outputs": [
        {
          "output_type": "display_data",
          "data": {
            "image/png": "[encoded data removed]",
            "text/plain": [
              "<Figure size 720x720 with 5 Axes>"
            ]
          },
          "metadata": {
            "tags": []
          }
        }
      ]
    },
    {
      "cell_type": "code",
      "metadata": {
        "id": "RSbgaXvDiItb",
        "colab_type": "code",
        "colab": {}
      },
      "source": [
        "# ------------- 1st WAY -------------------------\n",
        "# Modeling - Unoptimized\n",
        "# To manually flatten use x_train.reshape(60000, 784). 784 as 28*28 1D array from 2D array\n",
        "model1 = tf.keras.Sequential([keras.layers.Flatten(input_shape = (28,28)),\n",
        "                         keras.layers.Dense(128, activation='relu', input_shape=(784,)),\n",
        "                         keras.layers.Dense(10)\n",
        "                               ])\n",
        "       "
      ],
      "execution_count": 0,
      "outputs": []
    },
    {
      "cell_type": "code",
      "metadata": {
        "id": "0AdntBClZOn8",
        "colab_type": "code",
        "colab": {
          "base_uri": "https://localhost:8080/",
          "height": 260
        },
        "outputId": "f134621f-b14f-48c5-fbb7-1b0020ffa7df"
      },
      "source": [
        "# To check model architecture in Keras\n",
        "model1.summary()"
      ],
      "execution_count": 66,
      "outputs": [
        {
          "output_type": "stream",
          "text": [
            "Model: \"sequential_8\"\n",
            "_________________________________________________________________\n",
            "Layer (type)                 Output Shape              Param #   \n",
            "=================================================================\n",
            "flatten_5 (Flatten)          (None, 784)               0         \n",
            "_________________________________________________________________\n",
            "dense_10 (Dense)             (None, 128)               100480    \n",
            "_________________________________________________________________\n",
            "dense_11 (Dense)             (None, 10)                1290      \n",
            "=================================================================\n",
            "Total params: 101,770\n",
            "Trainable params: 101,770\n",
            "Non-trainable params: 0\n",
            "_________________________________________________________________\n"
          ],
          "name": "stdout"
        }
      ]
    },
    {
      "cell_type": "code",
      "metadata": {
        "id": "oyu-CxeuiI5_",
        "colab_type": "code",
        "colab": {
          "base_uri": "https://localhost:8080/",
          "height": 35
        },
        "outputId": "c0fbdab1-24bf-480b-c037-3e5ef82d7727"
      },
      "source": [
        "# Model complilation - includes loss function, optimizer and metrics\n",
        "model1.compile(optimizer='adam',\n",
        "               loss=tf.keras.losses.SparseCategoricalCrossentropy(from_logits=True),\n",
        "               metrics= ['accuracy'])\n",
        "print('Model1 compiled!')"
      ],
      "execution_count": 67,
      "outputs": [
        {
          "output_type": "stream",
          "text": [
            "Model1 compiled!\n"
          ],
          "name": "stdout"
        }
      ]
    },
    {
      "cell_type": "markdown",
      "metadata": {
        "id": "9zVKKVQeUKBL",
        "colab_type": "text"
      },
      "source": [
        "*   Loss function : evaluate the degree of error between calculated outputs and the desired outputs of the training data\n",
        "*   Optimizer : defines how neural network calculate the weights of the parameters from the input data and the defined loss function\n",
        "\n",
        "*   Metrics : used to monitor the learning process\n",
        "\n",
        "\n",
        "\n",
        "\n"
      ]
    },
    {
      "cell_type": "code",
      "metadata": {
        "id": "5DdcmuaZU7EE",
        "colab_type": "code",
        "colab": {
          "base_uri": "https://localhost:8080/",
          "height": 225
        },
        "outputId": "8e3df840-2bb8-4bb5-9b2d-fd8e3d57ce31"
      },
      "source": [
        "# Training the model\n",
        "model1.fit(x_train, y_train, epochs= 5)\n",
        "print('Model fitted successfully!')"
      ],
      "execution_count": 68,
      "outputs": [
        {
          "output_type": "stream",
          "text": [
            "Train on 60000 samples\n",
            "Epoch 1/5\n",
            "60000/60000 [==============================] - 4s 75us/sample - loss: 0.0027 - accuracy: 0.0999\n",
            "Epoch 2/5\n",
            "60000/60000 [==============================] - 4s 70us/sample - loss: 1.7550e-06 - accuracy: 0.1000\n",
            "Epoch 3/5\n",
            "60000/60000 [==============================] - 4s 72us/sample - loss: 3.8841e-07 - accuracy: 0.1000\n",
            "Epoch 4/5\n",
            "60000/60000 [==============================] - 4s 71us/sample - loss: 1.5058e-07 - accuracy: 0.1000\n",
            "Epoch 5/5\n",
            "60000/60000 [==============================] - 4s 72us/sample - loss: 6.6095e-08 - accuracy: 0.1000\n",
            "Model fitted successfully!\n"
          ],
          "name": "stdout"
        }
      ]
    },
    {
      "cell_type": "code",
      "metadata": {
        "id": "WfNQWSYAiJo2",
        "colab_type": "code",
        "colab": {
          "base_uri": "https://localhost:8080/",
          "height": 52
        },
        "outputId": "67b604fd-5c33-4ae5-dea9-8be297a8acef"
      },
      "source": [
        "# Model evaluation\n",
        "loss_, accuracy_ = model1.evaluate(x_test, y_test, verbose=2)\n",
        "accuracy_"
      ],
      "execution_count": 71,
      "outputs": [
        {
          "output_type": "stream",
          "text": [
            "10000/10000 - 0s - loss: 20147.1955 - accuracy: 0.1000\n"
          ],
          "name": "stdout"
        },
        {
          "output_type": "execute_result",
          "data": {
            "text/plain": [
              "0.1"
            ]
          },
          "metadata": {
            "tags": []
          },
          "execution_count": 71
        }
      ]
    },
    {
      "cell_type": "markdown",
      "metadata": {
        "id": "T96xFzMrculz",
        "colab_type": "text"
      },
      "source": [
        "**Methods to avoid overfitting**\n",
        "\n",
        "Get more training data.\n",
        "\n",
        "Reduce the capacity of the network.\n",
        "\n",
        "Add weight regularization.\n",
        "\n",
        "Add dropout.\n",
        "\n",
        "Data-augmentation\n",
        "\n",
        "Batch normalization"
      ]
    },
    {
      "cell_type": "code",
      "metadata": {
        "id": "PbkE1nF7iJij",
        "colab_type": "code",
        "colab": {
          "base_uri": "https://localhost:8080/",
          "height": 104
        },
        "outputId": "c67dda99-f7dc-48fd-a544-cf481df7393d"
      },
      "source": [
        "# Generate predictions\n",
        "# The model's linear outputs are logits. Attach a softmax layer to convert the logits to probabilities for interpretability\n",
        "pred_model = tf.keras.Sequential([model1, \n",
        "                               tf.keras.layers.Softmax()])\n",
        "\n",
        "# Now predict\n",
        "predictions = pred_model.predict(x_test)\n",
        "predictions[0:5]"
      ],
      "execution_count": 70,
      "outputs": [
        {
          "output_type": "execute_result",
          "data": {
            "text/plain": [
              "array([[1., 0., 0., 0., 0., 0., 0., 0., 0., 0.],\n",
              "       [1., 0., 0., 0., 0., 0., 0., 0., 0., 0.],\n",
              "       [1., 0., 0., 0., 0., 0., 0., 0., 0., 0.],\n",
              "       [1., 0., 0., 0., 0., 0., 0., 0., 0., 0.],\n",
              "       [1., 0., 0., 0., 0., 0., 0., 0., 0., 0.]], dtype=float32)"
            ]
          },
          "metadata": {
            "tags": []
          },
          "execution_count": 70
        }
      ]
    },
    {
      "cell_type": "code",
      "metadata": {
        "id": "Bz0jtTI3hFMt",
        "colab_type": "code",
        "colab": {}
      },
      "source": [
        ""
      ],
      "execution_count": 0,
      "outputs": []
    },
    {
      "cell_type": "code",
      "metadata": {
        "id": "Mi241_tvhYpW",
        "colab_type": "code",
        "colab": {}
      },
      "source": [
        ""
      ],
      "execution_count": 0,
      "outputs": []
    }
  ]
}